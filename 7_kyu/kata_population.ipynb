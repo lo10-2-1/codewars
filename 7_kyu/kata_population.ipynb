{
 "cells": [
  {
   "cell_type": "code",
   "execution_count": 8,
   "metadata": {},
   "outputs": [
    {
     "name": "stdout",
     "output_type": "stream",
     "text": [
      "15 10 94\n"
     ]
    }
   ],
   "source": [
    "def nb_year(p0, percent, aug, p):\n",
    "    years = 0\n",
    "    while p > p0:\n",
    "        p0 = p0 + p0 * (percent * 0.01) + aug\n",
    "        years += 1\n",
    "    return years\n",
    "        \n",
    "a = nb_year(1500, 5, 100, 5000)\n",
    "b = nb_year(1500000, 2.5, 10000, 2000000)\n",
    "c = nb_year(1500000, 0.25, 1000, 2000000)\n",
    "print(a, b, c)"
   ]
  },
  {
   "cell_type": "code",
   "execution_count": null,
   "metadata": {},
   "outputs": [],
   "source": []
  }
 ],
 "metadata": {
  "kernelspec": {
   "display_name": "Python 3",
   "language": "python",
   "name": "python3"
  },
  "language_info": {
   "codemirror_mode": {
    "name": "ipython",
    "version": 3
   },
   "file_extension": ".py",
   "mimetype": "text/x-python",
   "name": "python",
   "nbconvert_exporter": "python",
   "pygments_lexer": "ipython3",
   "version": "3.7.4"
  }
 },
 "nbformat": 4,
 "nbformat_minor": 2
}
