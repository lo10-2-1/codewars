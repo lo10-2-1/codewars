{
 "cells": [
  {
   "cell_type": "code",
   "execution_count": 25,
   "metadata": {},
   "outputs": [
    {
     "name": "stdout",
     "output_type": "stream",
     "text": [
      "Infected\n",
      "Infected\n",
      "Infected\n",
      "Infected\n",
      "Infected\n",
      "Infected\n",
      "Infected\n",
      "Infected\n",
      "Infected\n",
      "Infected\n",
      "Infected\n",
      "Infected\n",
      "Infected\n",
      "Infected\n",
      "Infected\n",
      "Infected\n",
      "Infected\n",
      "Infected\n",
      "Infected\n",
      "Infected\n",
      "Infected\n",
      "Infected\n",
      "Infected\n",
      "Infected\n",
      "Infected\n",
      "Infected\n",
      "Infected\n",
      "Infected\n",
      "Infected\n",
      "Infected\n",
      "Infected\n",
      "Infected\n",
      "Infected\n",
      "Infected\n",
      "Infected\n",
      "Infected\n",
      "Infected\n",
      "Infected\n",
      "Infected\n",
      "Infected\n",
      "Infected\n",
      "Infected\n",
      "Infected\n",
      "Infected\n",
      "Infected\n",
      "Infected\n",
      "Infected\n",
      "Infected\n",
      "Infected\n",
      "Infected\n",
      "Infected\n",
      "Infected\n",
      "Infected\n",
      "Infected\n",
      "Infected\n",
      "Infected\n",
      "Infected\n",
      "Infected\n"
     ]
    }
   ],
   "source": [
    "def _():\n",
    "    fixeds = [\n",
    "        (\"01000000X000X011X0X\",73.33333333333333),\n",
    "        (\"01X000X010X011XX\", 72.72727272727273),\n",
    "        (\"XXXXX\", 0),\n",
    "        (\"00000000X00X0000\", 0),\n",
    "        (\"0000000010\", 100),\n",
    "        (\"000001XXXX0010X1X00010\", 100),\n",
    "        (\"X00X000000X10X0100\",42.857142857142854),\n",
    "    ]\n",
    "        \n",
    "def infected(s):\n",
    "    quan = 0\n",
    "    total = 0\n",
    "    for i in s:\n",
    "        quan += 1\n",
    "        if i == 'X':\n",
    "            for j in s[:quan]:\n",
    "                if j == 1:\n",
    "                    total += quan\n",
    "                    quan = 0\n",
    "                \n",
    "            \n",
    "infected(\"01000000X000X011X0X\")"
   ]
  },
  {
   "cell_type": "code",
   "execution_count": 28,
   "metadata": {},
   "outputs": [
    {
     "name": "stdout",
     "output_type": "stream",
     "text": [
      "[1, 3, 5, 4, 2] 0 [0, 1, 0, 0, 0, 0]\n",
      "[1, 3, 5, 4, 2] 1 [0, 1, 2, 0, 0, 0]\n",
      "[1, 3, 5, 4, 2] 2 [0, 1, 2, 3, 0, 0]\n",
      "[1, 3, 5, 4, 2] 2 [0, 1, 2, 3, 3, 0]\n",
      "[1, 3, 5, 4, 2] 1 [0, 1, 2, 3, 3, 2]\n",
      "2\n"
     ]
    }
   ],
   "source": [
    "A = [1, 3, 5, 4, 2]\n",
    "A = gis(A)\n",
    "print(A)\n",
    "\n",
    "def gis(A):\n",
    "    F = [0] * (len(A) + 1)\n",
    "    for i in range(1, len(A)+1):\n",
    "        m = 0\n",
    "        for j in range(0, i):\n",
    "            if A[i-1] > A[j-1] and F[j] > m:\n",
    "                m = F[j]\n",
    "        F[i] = m + 1\n",
    "        print(A, m, F)\n",
    "    return F[len(A)]"
   ]
  },
  {
   "cell_type": "code",
   "execution_count": 39,
   "metadata": {},
   "outputs": [
    {
     "name": "stdout",
     "output_type": "stream",
     "text": [
      "[1, 3, 5, 4, 2]\n",
      "[1, 3, 3, 2, 5]\n",
      "[[0, 0, 0, 0, 0, 0], [0, 1, 1, 1, 1, 1], [0, 0, 0, 0, 0, 0], [0, 0, 0, 0, 0, 0], [0, 0, 0, 0, 0, 0], [0, 0, 0, 0, 0, 0]]\n",
      "[1, 3, 5, 4, 2]\n",
      "[1, 3, 3, 2, 5]\n",
      "[[0, 0, 0, 0, 0, 0], [0, 1, 1, 1, 1, 1], [0, 1, 2, 2, 2, 2], [0, 0, 0, 0, 0, 0], [0, 0, 0, 0, 0, 0], [0, 0, 0, 0, 0, 0]]\n",
      "[1, 3, 5, 4, 2]\n",
      "[1, 3, 3, 2, 5]\n",
      "[[0, 0, 0, 0, 0, 0], [0, 1, 1, 1, 1, 1], [0, 1, 2, 2, 2, 2], [0, 1, 2, 2, 2, 3], [0, 0, 0, 0, 0, 0], [0, 0, 0, 0, 0, 0]]\n",
      "[1, 3, 5, 4, 2]\n",
      "[1, 3, 3, 2, 5]\n",
      "[[0, 0, 0, 0, 0, 0], [0, 1, 1, 1, 1, 1], [0, 1, 2, 2, 2, 2], [0, 1, 2, 2, 2, 3], [0, 1, 2, 2, 2, 3], [0, 0, 0, 0, 0, 0]]\n",
      "[1, 3, 5, 4, 2]\n",
      "[1, 3, 3, 2, 5]\n",
      "[[0, 0, 0, 0, 0, 0], [0, 1, 1, 1, 1, 1], [0, 1, 2, 2, 2, 2], [0, 1, 2, 2, 2, 3], [0, 1, 2, 2, 2, 3], [0, 1, 2, 2, 3, 3]]\n",
      "3\n"
     ]
    }
   ],
   "source": [
    "def lcs(A, B):\n",
    "    F = [[0] * (len(B) + 1) for i in range(len(A) + 1)]\n",
    "    for i in range(1, len(A)+1):\n",
    "        for j in range(1, len(B)+1):\n",
    "            if A[i-1] == B[j-1]:\n",
    "                F[i][j] = 1 + F[i-1][j-1]\n",
    "            else:\n",
    "                F[i][j] = max(F[i-1][j], F[i][j-1])\n",
    "        print(A, B, F, sep='\\n')\n",
    "    return F[-1][-1]\n",
    "\n",
    "A = [1, 3, 5, 4, 2]\n",
    "B = [1, 3, 3, 2, 5]\n",
    "A = lcs(A, B)\n",
    "print(A)"
   ]
  },
  {
   "cell_type": "code",
   "execution_count": null,
   "metadata": {},
   "outputs": [],
   "source": []
  }
 ],
 "metadata": {
  "kernelspec": {
   "display_name": "Python 3",
   "language": "python",
   "name": "python3"
  },
  "language_info": {
   "codemirror_mode": {
    "name": "ipython",
    "version": 3
   },
   "file_extension": ".py",
   "mimetype": "text/x-python",
   "name": "python",
   "nbconvert_exporter": "python",
   "pygments_lexer": "ipython3",
   "version": "3.7.4"
  }
 },
 "nbformat": 4,
 "nbformat_minor": 2
}
