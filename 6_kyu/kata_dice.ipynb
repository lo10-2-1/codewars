{
 "cells": [
  {
   "cell_type": "code",
   "execution_count": 5,
   "metadata": {},
   "outputs": [],
   "source": [
    "def points(dice):\n",
    "    dice = list(map(int, dice))\n",
    "    quan = []\n",
    "    for num in dice:\n",
    "        quan.append(dice.count(num))\n",
    "        if 5 in quan:\n",
    "            return 50\n",
    "        elif 4 in quan:\n",
    "            return 40\n",
    "    if quan[0] == 3 or quan[0] == 2:\n",
    "        if 1 not in quan:\n",
    "            return 30\n",
    "    if 2 not in quan and 3 not in quan:\n",
    "        dice.sort()\n",
    "        straight = [[i for i in range(1, 6)], [i for i in range(2, 7)], [i for i in range(3, 7)]]\n",
    "        straight[2].insert(0, 1)\n",
    "        if dice in straight:\n",
    "            return 20\n",
    "    return 0"
   ]
  },
  {
   "cell_type": "code",
   "execution_count": 6,
   "metadata": {},
   "outputs": [
    {
     "name": "stdout",
     "output_type": "stream",
     "text": [
      "50\n",
      "50\n",
      "50\n",
      "50\n",
      "50\n",
      "50\n",
      "40\n",
      "40\n",
      "40\n",
      "30\n",
      "30\n",
      "30\n",
      "20\n",
      "20\n",
      "20\n",
      "20\n",
      "20\n",
      "0\n",
      "0\n",
      "0\n"
     ]
    }
   ],
   "source": [
    "print(points(\"55555\"), #50\n",
    "      points(\"66666\"), #50\n",
    "      points(\"11111\"), #50\n",
    "      points(\"22222\"), #50\n",
    "      points(\"33333\"), #50\n",
    "      points(\"44444\"), #50\n",
    "      points(\"44441\"), #40\n",
    "      points(\"33233\"), #40\n",
    "      points(\"22262\"), #40\n",
    "      points(\"12121\"), #30\n",
    "      points(\"44455\"), #30\n",
    "      points(\"66116\"), #30\n",
    "      points(\"12345\"), #20\n",
    "      points(\"23456\"), #20\n",
    "      points(\"34561\"), #20\n",
    "      points(\"13564\"), #20\n",
    "      points(\"62534\"), #20\n",
    "      points(\"44421\"), #0\n",
    "      points(\"61623\"), #0\n",
    "      points(\"12346\"), #0\n",
    "      sep='\\n')"
   ]
  }
 ],
 "metadata": {
  "kernelspec": {
   "display_name": "Python 3",
   "language": "python",
   "name": "python3"
  },
  "language_info": {
   "codemirror_mode": {
    "name": "ipython",
    "version": 3
   },
   "file_extension": ".py",
   "mimetype": "text/x-python",
   "name": "python",
   "nbconvert_exporter": "python",
   "pygments_lexer": "ipython3",
   "version": "3.7.7"
  }
 },
 "nbformat": 4,
 "nbformat_minor": 4
}
