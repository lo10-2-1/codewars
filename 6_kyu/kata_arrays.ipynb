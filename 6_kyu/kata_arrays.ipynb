{
 "cells": [
  {
   "cell_type": "code",
   "execution_count": 27,
   "metadata": {},
   "outputs": [
    {
     "name": "stdout",
     "output_type": "stream",
     "text": [
      "[-6, -17, 10, -16, -8, 10, 20, -18, 13, -8, -2, 16]\n"
     ]
    }
   ],
   "source": [
    "a = [-6, -17, 10, 1, -16, 0, -14, -8, 10, 20, -18, 13, -11, -8, -13, -2, 16]\n",
    "b = [-11, -11, -12, -1, 12, -14, 4, -3, 0, -13, 3, 19, 1, 12]\n",
    "\n",
    "def abc(a, b):\n",
    "    for i in b:\n",
    "        while i in a:\n",
    "            a.remove(i)\n",
    "    return(a)\n",
    "        \n",
    "abc(a, b)\n",
    "print(a)"
   ]
  },
  {
   "cell_type": "code",
   "execution_count": 28,
   "metadata": {},
   "outputs": [
    {
     "name": "stdout",
     "output_type": "stream",
     "text": [
      "[-6, -17, 10, 1, -16, 0, -14, -8, 10, 20, -18, 13, -11, -8, -13, -2, 16]\n"
     ]
    }
   ],
   "source": [
    "a = [-6, -17, 10, 1, -16, 0, -14, -8, 10, 20, -18, 13, -11, -8, -13, -2, 16]\n",
    "b = [-11, -11, -12, -1, 12, -14, 4, -3, 0, -13, 3, 19, 1, 12]\n",
    "\n",
    "def abc(a, b):\n",
    "    '''Optimized'''\n",
    "    return [x for x in a if x not in b]\n",
    "    \n",
    "abc(a, b)\n",
    "print(a)"
   ]
  },
  {
   "cell_type": "code",
   "execution_count": null,
   "metadata": {},
   "outputs": [],
   "source": []
  },
  {
   "cell_type": "code",
   "execution_count": null,
   "metadata": {},
   "outputs": [],
   "source": []
  }
 ],
 "metadata": {
  "kernelspec": {
   "display_name": "Python 3",
   "language": "python",
   "name": "python3"
  },
  "language_info": {
   "codemirror_mode": {
    "name": "ipython",
    "version": 3
   },
   "file_extension": ".py",
   "mimetype": "text/x-python",
   "name": "python",
   "nbconvert_exporter": "python",
   "pygments_lexer": "ipython3",
   "version": "3.7.6"
  }
 },
 "nbformat": 4,
 "nbformat_minor": 2
}
