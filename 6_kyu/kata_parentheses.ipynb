{
 "cells": [
  {
   "cell_type": "code",
   "execution_count": 2,
   "metadata": {},
   "outputs": [],
   "source": [
    "def remove_parentheses(s):\n",
    "    res = ''\n",
    "    beg = []\n",
    "    end = []\n",
    "    for i in range(len(s)):\n",
    "        if s[i] == '(':\n",
    "            beg.append(i)\n",
    "        if s[i] == ')':\n",
    "            end.append(i)\n",
    "    if end[0] > beg[-1]:\n",
    "        res = s[:beg[0]] + s[end[-1]+1:]\n",
    "    else:\n",
    "        res += s[:beg[0]]\n",
    "        for j in range(len(end)-1):\n",
    "            res += s[end[j]+1:beg[j+1]]\n",
    "        res += s[end[-1]+1:]\n",
    "    return res"
   ]
  },
  {
   "cell_type": "code",
   "execution_count": 3,
   "metadata": {},
   "outputs": [
    {
     "name": "stdout",
     "output_type": "stream",
     "text": [
      "exampleexample\n",
      "example  example\n",
      "a e\n",
      "a\n",
      "hello example  something\n",
      "  \n"
     ]
    }
   ],
   "source": [
    "print(remove_parentheses(\"example(unwanted thing)example\"), #\"exampleexample\"\n",
    "        remove_parentheses(\"example (unwanted thing) example\"), #\"example  example\"\n",
    "        remove_parentheses(\"a (bc d)e\"), #\"a e\"\n",
    "        remove_parentheses(\"a(b(c))\"), #\"a\"\n",
    "        remove_parentheses(\"hello example (words(more words) here) something\"), #\"hello example  something\"\n",
    "        remove_parentheses(\"(first group) (second group) (third group)\"), sep='\\n') #\"  \""
   ]
  }
 ],
 "metadata": {
  "kernelspec": {
   "display_name": "Python 3",
   "language": "python",
   "name": "python3"
  },
  "language_info": {
   "codemirror_mode": {
    "name": "ipython",
    "version": 3
   },
   "file_extension": ".py",
   "mimetype": "text/x-python",
   "name": "python",
   "nbconvert_exporter": "python",
   "pygments_lexer": "ipython3",
   "version": "3.7.7"
  }
 },
 "nbformat": 4,
 "nbformat_minor": 4
}
