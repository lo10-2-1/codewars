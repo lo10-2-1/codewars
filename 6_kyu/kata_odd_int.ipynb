{
 "cells": [
  {
   "cell_type": "code",
   "execution_count": 17,
   "metadata": {},
   "outputs": [],
   "source": [
    "def find_it(seq):\n",
    "    res = 0\n",
    "    dict_seq = {dig: 0 for dig in seq}\n",
    "    for i in seq:\n",
    "        dict_seq[i] += 1\n",
    "    print(dict_seq)\n",
    "    for dig in dict_seq:\n",
    "        if dict_seq[dig] % 2 == 1:\n",
    "            res = dig\n",
    "    print(res)"
   ]
  },
  {
   "cell_type": "code",
   "execution_count": 18,
   "metadata": {},
   "outputs": [
    {
     "name": "stdout",
     "output_type": "stream",
     "text": [
      "{20: 2, 1: 2, -1: 2, 2: 2, -2: 2, 3: 2, 5: 3, 4: 2}\n",
      "5\n",
      "{1: 2, 2: 2, -2: 2, 5: 2, 4: 2, -1: 1}\n",
      "-1\n",
      "{20: 2, 1: 2, 2: 2, 3: 2, 5: 3, 4: 2}\n",
      "5\n",
      "{10: 1}\n",
      "10\n",
      "{1: 10, 10: 1}\n",
      "10\n",
      "{5: 2, 4: 2, 3: 2, 2: 2, 1: 1, 10: 2}\n",
      "1\n"
     ]
    }
   ],
   "source": [
    "find_it([20,1,-1,2,-2,3,3,5,5,1,2,4,20,4,-1,-2,5])\n",
    "find_it([1,1,2,-2,5,2,4,4,-1,-2,5])\n",
    "find_it([20,1,1,2,2,3,3,5,5,4,20,4,5])\n",
    "find_it([10])\n",
    "find_it([1,1,1,1,1,1,10,1,1,1,1])\n",
    "find_it([5,4,3,2,1,5,4,3,2,10,10])"
   ]
  },
  {
   "cell_type": "code",
   "execution_count": null,
   "metadata": {},
   "outputs": [],
   "source": []
  }
 ],
 "metadata": {
  "kernelspec": {
   "display_name": "Python 3",
   "language": "python",
   "name": "python3"
  },
  "language_info": {
   "codemirror_mode": {
    "name": "ipython",
    "version": 3
   },
   "file_extension": ".py",
   "mimetype": "text/x-python",
   "name": "python",
   "nbconvert_exporter": "python",
   "pygments_lexer": "ipython3",
   "version": "3.7.6"
  }
 },
 "nbformat": 4,
 "nbformat_minor": 2
}
