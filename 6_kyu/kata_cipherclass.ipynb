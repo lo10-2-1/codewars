{
 "cells": [
  {
   "cell_type": "code",
   "execution_count": null,
   "metadata": {},
   "outputs": [],
   "source": [
    "class Cipher(object):\n",
    "    def __init__(self, map1, map2):\n",
    "        self.map1 = map1\n",
    "        self.map2 = map2\n",
    "    \n",
    "    def encode(self, s):\n",
    "        s_new = ''\n",
    "        for st in s:\n",
    "            ind = self.map1.find(st)\n",
    "            if ind == -1:\n",
    "                s_new += st\n",
    "            else:\n",
    "                s_new += self.map2[ind]\n",
    "        return s_new\n",
    "    \n",
    "    def decode(self, s):\n",
    "        s_new = ''\n",
    "        for st in s:\n",
    "            ind = self.map2.find(st)\n",
    "            if ind == -1:\n",
    "                s_new += st\n",
    "            else:\n",
    "                s_new += self.map1[ind]\n",
    "        return s_new"
   ]
  },
  {
   "cell_type": "code",
   "execution_count": null,
   "metadata": {},
   "outputs": [],
   "source": [
    "cipher = Cipher(map1, map2)\n",
    "print(cipher.encode(\"abc\"), #\"eta\"\n",
    "      cipher.encode(\"xyz\"), #\"qxz\"\n",
    "      cipher.encode(\"aeiou\"), #\"eirfg\"\n",
    "      cipher.decode(\"eta\"), #\"abc\"\n",
    "      cipher.decode(\"qxz\"), #\"xyz\"\n",
    "      cipher.decode(\"eirfg\"), #\"aeiou\"\n",
    "      sep='\\n')"
   ]
  }
 ],
 "metadata": {
  "kernelspec": {
   "display_name": "Python 3",
   "language": "python",
   "name": "python3"
  },
  "language_info": {
   "codemirror_mode": {
    "name": "ipython",
    "version": 3
   },
   "file_extension": ".py",
   "mimetype": "text/x-python",
   "name": "python",
   "nbconvert_exporter": "python",
   "pygments_lexer": "ipython3",
   "version": "3.7.7"
  }
 },
 "nbformat": 4,
 "nbformat_minor": 4
}
