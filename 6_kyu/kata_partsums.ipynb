{
 "cells": [
  {
   "cell_type": "code",
   "execution_count": 10,
   "metadata": {},
   "outputs": [],
   "source": [
    "def parts_sums(ls):\n",
    "    sums = [sum(ls)]\n",
    "    for i in range(len(ls)):\n",
    "        sums.append(sums[i] - ls[i])\n",
    "    return sums"
   ]
  },
  {
   "cell_type": "code",
   "execution_count": 11,
   "metadata": {},
   "outputs": [
    {
     "name": "stdout",
     "output_type": "stream",
     "text": [
      "[0]\n",
      "[20, 20, 19, 16, 10, 0]\n",
      "[21, 20, 18, 15, 11, 6, 0]\n",
      "[10037855, 9293730, 9292795, 9292388, 9291934, 9291504, 9291414, 9291270, 2581057, 2580168, 2579358, 0]\n"
     ]
    }
   ],
   "source": [
    "print(parts_sums([]), #[0]\n",
    "      parts_sums([0, 1, 3, 6, 10]), #[20, 20, 19, 16, 10, 0]\n",
    "      parts_sums([1, 2, 3, 4, 5, 6]), #[21, 20, 18, 15, 11, 6, 0]\n",
    "      parts_sums([744125, 935, 407, 454, 430, 90, 144, 6710213, 889, 810, 2579358]),\n",
    "            #[10037855, 9293730, 9292795, 9292388, 9291934, 9291504, 9291414, 9291270, 2581057, 2580168, 2579358, 0]\n",
    "      sep='\\n')"
   ]
  }
 ],
 "metadata": {
  "kernelspec": {
   "display_name": "Python 3",
   "language": "python",
   "name": "python3"
  },
  "language_info": {
   "codemirror_mode": {
    "name": "ipython",
    "version": 3
   },
   "file_extension": ".py",
   "mimetype": "text/x-python",
   "name": "python",
   "nbconvert_exporter": "python",
   "pygments_lexer": "ipython3",
   "version": "3.7.7"
  }
 },
 "nbformat": 4,
 "nbformat_minor": 4
}
