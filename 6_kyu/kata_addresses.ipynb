{
 "cells": [
  {
   "cell_type": "code",
   "execution_count": 51,
   "metadata": {},
   "outputs": [],
   "source": [
    "def order_by_domain(addresses):\n",
    "    new = []\n",
    "    domens = ['com', 'gov', 'org']\n",
    "    d_add = {ad: None for ad in addresses}\n",
    "    for ad in addresses:\n",
    "        ind = ad.rfind('.')\n",
    "        end_ind = ad.rfind('/?')\n",
    "        if end_ind == -1:\n",
    "            d_add[ad] = ad[ind+1:]\n",
    "        else:\n",
    "            d_add[ad] = ad[ind+1:end_ind]\n",
    "    for dom in domens:\n",
    "        for key, value in d_add.items():\n",
    "            if dom == value:\n",
    "                new.append(key)\n",
    "                d_add[key] = ' '\n",
    "    d_add_list = []\n",
    "    for key, value in d_add.items():\n",
    "        if value != ' ':\n",
    "            d_add_list.append((key, value))\n",
    "    d_add_list.sort(key=lambda i: i[1])\n",
    "    for k in d_add_list:\n",
    "        new.append(k[0])\n",
    "    return new"
   ]
  },
  {
   "cell_type": "code",
   "execution_count": 58,
   "metadata": {},
   "outputs": [],
   "source": [
    "#Refactoring\n",
    "def order_by_domain(addresses):\n",
    "    new = []\n",
    "    domens = ['com', 'gov', 'org']\n",
    "    d_add = {ad: None for ad in addresses}\n",
    "    for ad in addresses:\n",
    "        ind = ad.rfind('.')\n",
    "        d_add[ad] = ad[ind+1:]\n",
    "    for dom in domens:\n",
    "        for ad, value in d_add.items():\n",
    "            if dom in value:\n",
    "                new.append(ad)\n",
    "                d_add[ad] = ' '\n",
    "    d_add_list = []\n",
    "    for key, value in d_add.items():\n",
    "        if value != ' ':\n",
    "            d_add_list.append((key, value))\n",
    "    d_add_list.sort(key=lambda i: i[1])\n",
    "    for k in d_add_list:\n",
    "        new.append(k[0])\n",
    "    return new"
   ]
  },
  {
   "cell_type": "code",
   "execution_count": 59,
   "metadata": {},
   "outputs": [
    {
     "name": "stdout",
     "output_type": "stream",
     "text": [
      "['http://www.google.com/?x=jsdfkj', 'http://www.google.gov/?x=jsdfkj', 'http://www.google.org/?x=jsdfkj', 'http://www.google.de/?x=jsdfkj', 'http://www.google.en/?x=jsdfkj']\n",
      "['http://www.dbv.qiw.com/?lvn=zpynf', 'http://www.afc.snfdn.com/?uwelk=gexgx', 'http://www.jtpov.clso.gbfr.com', 'http://www.com.zaa.gov', 'http://www.yexjw.rekf.iqp.axz', 'http://www.ocs.wbxvz.zmb.pwch', 'http://www.mmb.cpb.pwch/?mke=vrfut', 'http://www.phd.qovkb', 'http://www.uot.weao']\n",
      "Yare-yare daze...\n"
     ]
    }
   ],
   "source": [
    "input_list = [\n",
    "    \"http://www.google.en/?x=jsdfkj\",\n",
    "    \"http://www.google.de/?x=jsdfkj\",\n",
    "    \"http://www.google.com/?x=jsdfkj\",\n",
    "    \"http://www.google.org/?x=jsdfkj\",\n",
    "    \"http://www.google.gov/?x=jsdfkj\",\n",
    "]\n",
    "\n",
    "expected = [\n",
    "    \"http://www.google.com/?x=jsdfkj\",\n",
    "    \"http://www.google.gov/?x=jsdfkj\",\n",
    "    \"http://www.google.org/?x=jsdfkj\",\n",
    "    \"http://www.google.de/?x=jsdfkj\",\n",
    "    \"http://www.google.en/?x=jsdfkj\",\n",
    "]\n",
    "\n",
    "input_list2 = [\n",
    "    'http://www.mmb.cpb.pwch/?mke=vrfut',\n",
    "    'http://www.uot.weao',\n",
    "    'http://www.dbv.qiw.com/?lvn=zpynf',\n",
    "    'http://www.ocs.wbxvz.zmb.pwch',\n",
    "    'http://www.phd.qovkb',\n",
    "    'http://www.com.zaa.gov',\n",
    "    'http://www.afc.snfdn.com/?uwelk=gexgx',\n",
    "    'http://www.jtpov.clso.gbfr.com',\n",
    "    'http://www.yexjw.rekf.iqp.axz']\n",
    "\n",
    "expected2 = [\n",
    "    'http://www.afc.snfdn.com/?uwelk=gexgx',\n",
    "    'http://www.dbv.qiw.com/?lvn=zpynf',\n",
    "    'http://www.jtpov.clso.gbfr.com',\n",
    "    'http://www.com.zaa.gov',\n",
    "    'http://www.yexjw.rekf.iqp.axz',\n",
    "    'http://www.mmb.cpb.pwch/?mke=vrfut',\n",
    "    'http://www.ocs.wbxvz.zmb.pwch',\n",
    "    'http://www.phd.qovkb',\n",
    "    'http://www.uot.weao']\n",
    "\n",
    "a = order_by_domain(input_list)\n",
    "b = order_by_domain(input_list2)\n",
    "\n",
    "if a == expected and b == expected2:\n",
    "    print(\"IT'S ALIVE!!!\")\n",
    "else:\n",
    "    print(a, b, 'Yare-yare daze...', sep = '\\n')"
   ]
  },
  {
   "cell_type": "code",
   "execution_count": null,
   "metadata": {},
   "outputs": [],
   "source": []
  }
 ],
 "metadata": {
  "kernelspec": {
   "display_name": "Python 3",
   "language": "python",
   "name": "python3"
  },
  "language_info": {
   "codemirror_mode": {
    "name": "ipython",
    "version": 3
   },
   "file_extension": ".py",
   "mimetype": "text/x-python",
   "name": "python",
   "nbconvert_exporter": "python",
   "pygments_lexer": "ipython3",
   "version": "3.7.7"
  }
 },
 "nbformat": 4,
 "nbformat_minor": 4
}
