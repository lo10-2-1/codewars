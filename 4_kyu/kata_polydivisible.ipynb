{
 "cells": [
  {
   "cell_type": "code",
   "execution_count": null,
   "metadata": {},
   "outputs": [],
   "source": [
    "CHARS=\"0123456789ABCDEFGHIJKLMNOPQRSTUVWXYZabcdefghijklmnopqrstuvwxyz\"\n",
    "\n",
    "def is_polydivisible(s, b):\n",
    "    return True\n",
    "\n",
    "def get_polydivisible(n, b):\n",
    "    return None"
   ]
  },
  {
   "cell_type": "code",
   "execution_count": null,
   "metadata": {},
   "outputs": [],
   "source": [
    "print(is_polydivisible(\"1232\", 10), #True\n",
    "      is_polydivisible(\"123220\", 10), #False\n",
    "      is_polydivisible(\"123220\", 6), #True\n",
    "      \n",
    "      get_polydivisible(22, 10), #\"32\"\n",
    "      get_polydivisible(42, 16), #\"42\"\n",
    "      \n",
    "      sep='\\n')"
   ]
  }
 ],
 "metadata": {
  "kernelspec": {
   "display_name": "Python 3",
   "language": "python",
   "name": "python3"
  },
  "language_info": {
   "codemirror_mode": {
    "name": "ipython",
    "version": 3
   },
   "file_extension": ".py",
   "mimetype": "text/x-python",
   "name": "python",
   "nbconvert_exporter": "python",
   "pygments_lexer": "ipython3",
   "version": "3.7.7"
  }
 },
 "nbformat": 4,
 "nbformat_minor": 4
}
