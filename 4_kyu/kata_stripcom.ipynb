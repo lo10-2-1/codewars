{
 "cells": [
  {
   "cell_type": "code",
   "execution_count": 17,
   "metadata": {},
   "outputs": [],
   "source": [
    "def solution(string, markers):\n",
    "    string = string.split('\\n')\n",
    "    for marker in markers:\n",
    "        for i in range(len(string)):\n",
    "            try:\n",
    "                ind = string[i].index(marker)\n",
    "                string[i] = string[i][:ind]\n",
    "                if string[i][ind-1] == ' ':\n",
    "                    string[i] = string[i][:ind-1]\n",
    "            except:\n",
    "                continue\n",
    "    return '\\n'.join(string)"
   ]
  },
  {
   "cell_type": "code",
   "execution_count": 18,
   "metadata": {},
   "outputs": [
    {
     "name": "stdout",
     "output_type": "stream",
     "text": [
      "['apples, pears', 'grapes', 'bananas !apples']\n",
      "['apples, pears', 'grapes', 'bananas']\n",
      "['a', 'c', 'd $e f g']\n",
      "['a', 'c', 'd']\n",
      "apples, pears\n",
      "grapes\n",
      "bananas\n",
      "a\n",
      "c\n",
      "d\n"
     ]
    }
   ],
   "source": [
    "print(solution(\"apples, pears # and bananas\\ngrapes\\nbananas !apples\", [\"#\", \"!\"]), #\"apples, pears\\ngrapes\\nbananas\"\n",
    "      solution(\"a #b\\nc\\nd $e f g\", [\"#\", \"$\"]), #\"a\\nc\\nd\"\n",
    "      sep='\\n')"
   ]
  },
  {
   "cell_type": "code",
   "execution_count": null,
   "metadata": {},
   "outputs": [],
   "source": []
  }
 ],
 "metadata": {
  "kernelspec": {
   "display_name": "Python 3",
   "language": "python",
   "name": "python3"
  },
  "language_info": {
   "codemirror_mode": {
    "name": "ipython",
    "version": 3
   },
   "file_extension": ".py",
   "mimetype": "text/x-python",
   "name": "python",
   "nbconvert_exporter": "python",
   "pygments_lexer": "ipython3",
   "version": "3.7.6"
  }
 },
 "nbformat": 4,
 "nbformat_minor": 4
}
