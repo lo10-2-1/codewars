{
 "cells": [
  {
   "cell_type": "code",
   "execution_count": 25,
   "metadata": {},
   "outputs": [],
   "source": [
    "def format_duration(sec):\n",
    "    if sec == 0:\n",
    "        return 'now'\n",
    "    dur_date = ''\n",
    "    mid_time = []\n",
    "    time = {'year': 0, 'day': 0, 'hour': 0, 'minute': 0, 'second': 0}\n",
    "    time['second'] = sec % 60\n",
    "    time['minute'] = sec // 60 % 60\n",
    "    time['hour'] = sec // 60 // 60 % 24\n",
    "    time['day'] = sec // 60 // 60 // 24 % 365\n",
    "    time['year'] = sec // 60 // 60 // 24 // 365\n",
    "    time = {x: time[x] for x in time.keys() if time[x]!=0}\n",
    "    for key, value in time.items():\n",
    "        temp = str(value)\n",
    "        temp += (' ' + key)\n",
    "        if value > 1:\n",
    "            temp += 's'\n",
    "        mid_time.append(temp)\n",
    "    if len(mid_time) > 1:\n",
    "        for i in range(len(mid_time)):\n",
    "            if i < len(mid_time)-2:\n",
    "                dur_date += (mid_time[i] + ', ')\n",
    "            elif i == len(mid_time)-2:\n",
    "                dur_date += (mid_time[i] + ' and ')\n",
    "            else:\n",
    "                dur_date += mid_time[i]\n",
    "    else:\n",
    "        dur_date += mid_time[0]\n",
    "    return dur_date"
   ]
  },
  {
   "cell_type": "code",
   "execution_count": 26,
   "metadata": {},
   "outputs": [
    {
     "name": "stdout",
     "output_type": "stream",
     "text": [
      "1 second\n",
      "1 minute and 2 seconds\n",
      "2 minutes\n",
      "1 hour\n",
      "1 hour, 1 minute and 2 seconds\n"
     ]
    }
   ],
   "source": [
    "print(format_duration(1), #\"1 second\"\n",
    "    format_duration(62), #\"1 minute and 2 seconds\"\n",
    "    format_duration(120), #\"2 minutes\"\n",
    "    format_duration(3600), #\"1 hour\"\n",
    "    format_duration(3662), sep='\\n') #\"1 hour, 1 minute and 2 seconds\""
   ]
  },
  {
   "cell_type": "code",
   "execution_count": null,
   "metadata": {},
   "outputs": [],
   "source": []
  }
 ],
 "metadata": {
  "kernelspec": {
   "display_name": "Python 3",
   "language": "python",
   "name": "python3"
  },
  "language_info": {
   "codemirror_mode": {
    "name": "ipython",
    "version": 3
   },
   "file_extension": ".py",
   "mimetype": "text/x-python",
   "name": "python",
   "nbconvert_exporter": "python",
   "pygments_lexer": "ipython3",
   "version": "3.7.6"
  }
 },
 "nbformat": 4,
 "nbformat_minor": 4
}
