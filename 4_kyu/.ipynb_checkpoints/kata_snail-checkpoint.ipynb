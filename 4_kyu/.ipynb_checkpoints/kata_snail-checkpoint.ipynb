{
 "cells": [
  {
   "cell_type": "code",
   "execution_count": 142,
   "metadata": {},
   "outputs": [],
   "source": [
    "def snail(snail_map):\n",
    "    '''Prototype, declined'''\n",
    "    try:\n",
    "        N = len(snail_map)-1\n",
    "        new_arr = []\n",
    "        coun = 0\n",
    "        for i in range(N+1):\n",
    "            for j in range(N+1\n",
    "                if j == coun and i == coun:\n",
    "                    while j < N-coun:\n",
    "                        new_arr.append(snail_map[i][j])\n",
    "                        j += 1\n",
    "                    print('1)', new_arr, i, j)\n",
    "                if j == N-coun and i == coun:\n",
    "                    while i < N-coun:\n",
    "                        new_arr.append(snail_map[i][j])\n",
    "                        i += 1\n",
    "                    print('2)', new_arr, i, j)\n",
    "                if j == N-coun and i == N-coun:\n",
    "                    while j > coun:\n",
    "                        new_arr.append(snail_map[i][j])\n",
    "                        j -= 1\n",
    "                    print('3)', new_arr, i, j)\n",
    "                if j == coun and i == N-coun:\n",
    "                    while i > coun:\n",
    "                        new_arr.append(snail_map[i][j])\n",
    "                        i -= 1\n",
    "                    print('4)', new_arr, i, j)\n",
    "                coun += 1\n",
    "        return new_arr\n",
    "    except SyntaxError:\n",
    "        return [[]]"
   ]
  },
  {
   "cell_type": "code",
   "execution_count": 1,
   "metadata": {},
   "outputs": [],
   "source": [
    "def snail(snail_map):\n",
    "    '''Final solution'''\n",
    "    try:\n",
    "        N = len(snail_map)\n",
    "        new_arr = []\n",
    "        flag = True\n",
    "        while N != 0 :\n",
    "            if flag:\n",
    "                new_arr += snail_map[0]\n",
    "                snail_map = snail_map[1:]\n",
    "                for i in range(len(snail_map)):\n",
    "                    new_arr.append(snail_map[i][-1])\n",
    "                    snail_map[i] = snail_map[i][:-1]\n",
    "                flag = False\n",
    "                N -= 1\n",
    "            else:\n",
    "                new_arr += snail_map[-1][::-1]\n",
    "                snail_map = snail_map[:-1]\n",
    "                for i in range(len(snail_map)-1, 0, -1):\n",
    "                    new_arr.append(snail_map[i][0])\n",
    "                    snail_map[i] = snail_map[i][1:]\n",
    "                flag = True\n",
    "                N -= 1\n",
    "        return new_arr\n",
    "    except SyntaxError:\n",
    "        return [[]]"
   ]
  },
  {
   "cell_type": "code",
   "execution_count": 2,
   "metadata": {
    "scrolled": true
   },
   "outputs": [
    {
     "name": "stdout",
     "output_type": "stream",
     "text": [
      "[1, 2, 3, 6, 9, 8, 7, 4, 5]\n",
      "[1, 2, 3, 4, 5, 6, 7, 8, 9]\n",
      "[1, 2, 3, 4, 5, 6, 7, 8, 9, 10, 11, 12, 13, 14, 15, 16]\n"
     ]
    }
   ],
   "source": [
    "array = [[1,2,3],\n",
    "         [4,5,6],\n",
    "         [7,8,9]]\n",
    "# expected = [1,2,3,6,9,8,7,4,5]\n",
    "print(snail(array))\n",
    "\n",
    "\n",
    "array = [[1,2,3],\n",
    "         [8,9,4],\n",
    "         [7,6,5]]\n",
    "# expected = [1,2,3,4,5,6,7,8,9]\n",
    "print(snail(array))\n",
    "\n",
    "array = [[1,2,3,4],\n",
    "         [12,13,14,5],\n",
    "         [11,16,15,6],\n",
    "         [10,9,8,7]]\n",
    "# expected = [1,2,3,4,5,6,7,8,9]\n",
    "print(snail(array))"
   ]
  }
 ],
 "metadata": {
  "kernelspec": {
   "display_name": "Python 3",
   "language": "python",
   "name": "python3"
  },
  "language_info": {
   "codemirror_mode": {
    "name": "ipython",
    "version": 3
   },
   "file_extension": ".py",
   "mimetype": "text/x-python",
   "name": "python",
   "nbconvert_exporter": "python",
   "pygments_lexer": "ipython3",
   "version": "3.7.6"
  }
 },
 "nbformat": 4,
 "nbformat_minor": 4
}
