{
 "cells": [
  {
   "cell_type": "code",
   "execution_count": 109,
   "metadata": {},
   "outputs": [],
   "source": [
    "from itertools import permutations\n",
    "\n",
    "def next_bigger(n):\n",
    "    '''Big and infinite prototype, declined'''\n",
    "    orig_n = n\n",
    "    ultim_n = 0\n",
    "    n = str(n)\n",
    "    rev_len = 2\n",
    "    if len(n) == 1:\n",
    "        return -1\n",
    "    else:\n",
    "        while True:\n",
    "            for i in permutations(n[len(n)-rev_len:]):\n",
    "                i = ''.join(i)\n",
    "                if int(n[:len(n)-rev_len] + i) > orig_n:\n",
    "                    return int(n[:len(n)-rev_len] + i)\n",
    "            if rev_len == len(n):\n",
    "                return -1\n",
    "            rev_len += 1"
   ]
  },
  {
   "cell_type": "code",
   "execution_count": 262,
   "metadata": {},
   "outputs": [],
   "source": [
    "def next_bigger(n):\n",
    "    '''Final solution'''\n",
    "    orig_n = n\n",
    "    ultim_n = 0\n",
    "    n = [int(i) for i in str(n)]\n",
    "    rev_len = -2\n",
    "    if len(n) == 1:\n",
    "        return -1\n",
    "    else:\n",
    "        while ultim_n <= orig_n:\n",
    "            if -rev_len > len(n):\n",
    "                return -1\n",
    "            temp = sorted(n[rev_len:])\n",
    "            for num in range(1, len(temp)):\n",
    "                if temp[0] < temp[num] <= max(temp):\n",
    "                    temp[0], temp[num] = temp[num], temp[0]\n",
    "                    n = n[:rev_len] + [temp[0]] + sorted(temp[1:])\n",
    "                    ultim_n = int(''.join(map(str, n)))\n",
    "                    if ultim_n > orig_n:\n",
    "                        break\n",
    "            rev_len -= 1\n",
    "    return ultim_n"
   ]
  },
  {
   "cell_type": "code",
   "execution_count": 263,
   "metadata": {},
   "outputs": [
    {
     "name": "stdout",
     "output_type": "stream",
     "text": [
      "21\n",
      "531\n",
      "2071\n",
      "441\n",
      "414\n",
      "860422770118\n"
     ]
    }
   ],
   "source": [
    "print(next_bigger(12), #21\n",
    "next_bigger(513), #531\n",
    "next_bigger(2017), #2071\n",
    "next_bigger(414), #441\n",
    "next_bigger(144), #414\n",
    "next_bigger(860422718710), #860422770118\n",
    "sep='\\n')"
   ]
  }
 ],
 "metadata": {
  "kernelspec": {
   "display_name": "Python 3",
   "language": "python",
   "name": "python3"
  },
  "language_info": {
   "codemirror_mode": {
    "name": "ipython",
    "version": 3
   },
   "file_extension": ".py",
   "mimetype": "text/x-python",
   "name": "python",
   "nbconvert_exporter": "python",
   "pygments_lexer": "ipython3",
   "version": "3.7.6"
  }
 },
 "nbformat": 4,
 "nbformat_minor": 4
}
