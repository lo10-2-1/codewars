{
 "cells": [
  {
   "cell_type": "code",
   "execution_count": 8,
   "metadata": {},
   "outputs": [],
   "source": [
    "def path_finder(maze):\n",
    "    if 'W' not in maze:\n",
    "        return True\n",
    "    else:\n",
    "        maze = maze.split('\\n')\n",
    "        maze = [list(maze[i]) for i in range(len(maze))]\n",
    "        N = len(maze)\n",
    "        path = [1] + [0]*(N**2)\n",
    "        for i in range(1, N+1):\n",
    "            for j in range(1, N+1):\n",
    "                \n",
    "            \n",
    "    return maze"
   ]
  },
  {
   "cell_type": "code",
   "execution_count": 9,
   "metadata": {},
   "outputs": [
    {
     "name": "stdout",
     "output_type": "stream",
     "text": [
      "[['.', 'W', '.'], ['.', 'W', '.'], ['.', '.', '.']]\n",
      "[['.', 'W', '.'], ['.', 'W', '.'], ['W', '.', '.']]\n",
      "True\n",
      "[['.', '.', '.', '.', '.', '.'], ['.', '.', '.', '.', '.', '.'], ['.', '.', '.', '.', '.', '.'], ['.', '.', '.', '.', '.', '.'], ['.', '.', '.', '.', '.', 'W'], ['.', '.', '.', '.', 'W', '.']]\n"
     ]
    }
   ],
   "source": [
    "a = \"\\n\".join([\n",
    "  \".W.\",\n",
    "  \".W.\",\n",
    "  \"...\"\n",
    "])\n",
    "\n",
    "b = \"\\n\".join([\n",
    "  \".W.\",\n",
    "  \".W.\",\n",
    "  \"W..\"\n",
    "])\n",
    "\n",
    "c = \"\\n\".join([\n",
    "  \"......\",\n",
    "  \"......\",\n",
    "  \"......\",\n",
    "  \"......\",\n",
    "  \"......\",\n",
    "  \"......\"\n",
    "])\n",
    "\n",
    "d = \"\\n\".join([\n",
    "  \"......\",\n",
    "  \"......\",\n",
    "  \"......\",\n",
    "  \"......\",\n",
    "  \".....W\",\n",
    "  \"....W.\"\n",
    "])\n",
    "\n",
    "print(path_finder(a), #True\n",
    "path_finder(b), #False\n",
    "path_finder(c), #True\n",
    "path_finder(d), #False\n",
    "     sep='\\n')"
   ]
  },
  {
   "cell_type": "code",
   "execution_count": null,
   "metadata": {},
   "outputs": [],
   "source": []
  }
 ],
 "metadata": {
  "kernelspec": {
   "display_name": "Python 3",
   "language": "python",
   "name": "python3"
  },
  "language_info": {
   "codemirror_mode": {
    "name": "ipython",
    "version": 3
   },
   "file_extension": ".py",
   "mimetype": "text/x-python",
   "name": "python",
   "nbconvert_exporter": "python",
   "pygments_lexer": "ipython3",
   "version": "3.7.6"
  }
 },
 "nbformat": 4,
 "nbformat_minor": 4
}
