{
 "cells": [
  {
   "cell_type": "code",
   "execution_count": null,
   "metadata": {},
   "outputs": [],
   "source": [
    "def path_finder(maze):\n",
    "    return"
   ]
  },
  {
   "cell_type": "code",
   "execution_count": null,
   "metadata": {},
   "outputs": [],
   "source": [
    "a = \"\\n\".join([\n",
    "  \".W.\",\n",
    "  \".W.\",\n",
    "  \"...\"\n",
    "])\n",
    "\n",
    "b = \"\\n\".join([\n",
    "  \".W.\",\n",
    "  \".W.\",\n",
    "  \"W..\"\n",
    "])\n",
    "\n",
    "c = \"\\n\".join([\n",
    "  \"......\",\n",
    "  \"......\",\n",
    "  \"......\",\n",
    "  \"......\",\n",
    "  \"......\",\n",
    "  \"......\"\n",
    "])\n",
    "\n",
    "d = \"\\n\".join([\n",
    "  \"......\",\n",
    "  \"......\",\n",
    "  \"......\",\n",
    "  \"......\",\n",
    "  \".....W\",\n",
    "  \"....W.\"\n",
    "])\n",
    "\n",
    "Test.assert_equals(path_finder(a), True)\n",
    "Test.assert_equals(path_finder(b), False)\n",
    "Test.assert_equals(path_finder(c), True)\n",
    "Test.assert_equals(path_finder(d), False)"
   ]
  }
 ],
 "metadata": {
  "kernelspec": {
   "display_name": "Python 3",
   "language": "python",
   "name": "python3"
  },
  "language_info": {
   "codemirror_mode": {
    "name": "ipython",
    "version": 3
   },
   "file_extension": ".py",
   "mimetype": "text/x-python",
   "name": "python",
   "nbconvert_exporter": "python",
   "pygments_lexer": "ipython3",
   "version": "3.7.6"
  }
 },
 "nbformat": 4,
 "nbformat_minor": 4
}
