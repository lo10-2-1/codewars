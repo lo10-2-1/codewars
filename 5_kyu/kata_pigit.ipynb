{
 "cells": [
  {
   "cell_type": "code",
   "execution_count": 49,
   "metadata": {},
   "outputs": [],
   "source": [
    "def pig_it(text):\n",
    "    text = text.split()\n",
    "    arr = []\n",
    "    for i in text:\n",
    "        if i in ',.!?/\\\\':\n",
    "            arr.append(i)\n",
    "            continue\n",
    "        i = i[1:] + i[0] + 'ay'\n",
    "        arr.append(i)\n",
    "    return ' '.join(arr)"
   ]
  },
  {
   "cell_type": "code",
   "execution_count": 56,
   "metadata": {},
   "outputs": [
    {
     "name": "stdout",
     "output_type": "stream",
     "text": [
      "igPay atinlay siay oolcay\n",
      "hisTay siay ymay tringsay\n",
      "elloHay orldway !\n"
     ]
    }
   ],
   "source": [
    "print(pig_it('Pig latin is cool'),\n",
    "pig_it('This is my string'),\n",
    "pig_it('Hello world !'), sep='\\n')"
   ]
  }
 ],
 "metadata": {
  "kernelspec": {
   "display_name": "Python 3",
   "language": "python",
   "name": "python3"
  },
  "language_info": {
   "codemirror_mode": {
    "name": "ipython",
    "version": 3
   },
   "file_extension": ".py",
   "mimetype": "text/x-python",
   "name": "python",
   "nbconvert_exporter": "python",
   "pygments_lexer": "ipython3",
   "version": "3.7.6"
  }
 },
 "nbformat": 4,
 "nbformat_minor": 4
}
