{
 "cells": [
  {
   "cell_type": "code",
   "execution_count": 135,
   "metadata": {},
   "outputs": [],
   "source": [
    "def dirReduc(arr):\n",
    "    reserve = []\n",
    "    flag = True\n",
    "    while flag:\n",
    "        leng_in = len(arr)\n",
    "        if leng_in > 2:    \n",
    "            for i in range(1, leng_in - 1):\n",
    "                if arr[i] == \"NORTH\":\n",
    "                    if arr[i-1] == \"SOUTH\":\n",
    "                        arr[i-1] = 0\n",
    "                        arr[i] = 0\n",
    "                    elif arr[i+1] == \"SOUTH\":\n",
    "                        arr[i] = 0\n",
    "                        arr[i+1] = 0\n",
    "                elif arr[i] == \"WEST\":\n",
    "                    if arr[i-1] == \"EAST\":\n",
    "                        arr[i] = 0\n",
    "                        arr[i-1] = 0\n",
    "                    elif arr[i+1] == \"EAST\":\n",
    "                        arr[i] = 0\n",
    "                        arr[i+1] = 0\n",
    "                elif arr[i] == \"SOUTH\":\n",
    "                    if arr[i-1] == \"NORTH\":\n",
    "                        arr[i-1] = 0\n",
    "                        arr[i] = 0\n",
    "                    elif arr[i+1] == \"NORTH\":\n",
    "                        arr[i] = 0\n",
    "                        arr[i+1] = 0\n",
    "                elif arr[i] == \"EAST\":\n",
    "                    if arr[i-1] == \"WEST\":\n",
    "                        arr[i] = 0\n",
    "                        arr[i-1] = 0\n",
    "                    elif arr[i+1] == \"WEST\":\n",
    "                        arr[i] = 0\n",
    "                        arr[i+1] = 0\n",
    "        elif leng_in < 2:\n",
    "            return arr\n",
    "        else:\n",
    "            if \"NORTH\" in arr and \"SOUTH\" in arr:\n",
    "                return []\n",
    "            elif \"EAST\" in arr and \"WEST\" in arr:\n",
    "                return []\n",
    "            else:\n",
    "                return arr\n",
    "        arr = [j for j in arr if j != 0]\n",
    "        leng_cur = len(arr)\n",
    "        if leng_cur == leng_in:\n",
    "            flag = False\n",
    "    return arr"
   ]
  },
  {
   "cell_type": "code",
   "execution_count": 136,
   "metadata": {},
   "outputs": [
    {
     "name": "stdout",
     "output_type": "stream",
     "text": [
      "[]\n",
      "['WEST']\n",
      "['NORTH', 'WEST', 'SOUTH', 'EAST']\n"
     ]
    }
   ],
   "source": [
    "a = ['NORTH', 'SOUTH']\n",
    "print(dirReduc(a))\n",
    "a = [\"NORTH\", \"SOUTH\", \"SOUTH\", \"EAST\", \"WEST\", \"NORTH\", \"WEST\"] #\"WEST\"\n",
    "print(dirReduc(a))\n",
    "u=[\"NORTH\", \"WEST\", \"SOUTH\", \"EAST\"] #--||--\n",
    "print(dirReduc(u))"
   ]
  },
  {
   "cell_type": "code",
   "execution_count": 138,
   "metadata": {},
   "outputs": [
    {
     "name": "stdout",
     "output_type": "stream",
     "text": [
      "[]\n",
      "['WEST']\n",
      "['NORTH', 'WEST', 'SOUTH', 'EAST']\n"
     ]
    }
   ],
   "source": [
    "opposite = {'NORTH': 'SOUTH', 'EAST': 'WEST', 'SOUTH': 'NORTH', 'WEST': 'EAST'}\n",
    "\n",
    "def dirReduc(plan):\n",
    "    new_plan = []\n",
    "    for d in plan:\n",
    "        if new_plan and new_plan[-1] == opposite[d]:\n",
    "            new_plan.pop()\n",
    "        else:\n",
    "            new_plan.append(d)\n",
    "    return new_plan\n",
    "\n",
    "a = ['NORTH', 'SOUTH']\n",
    "print(dirReduc(a))\n",
    "a = [\"NORTH\", \"SOUTH\", \"SOUTH\", \"EAST\", \"WEST\", \"NORTH\", \"WEST\"] #\"WEST\"\n",
    "print(dirReduc(a))\n",
    "u=[\"NORTH\", \"WEST\", \"SOUTH\", \"EAST\"] #--||--\n",
    "print(dirReduc(u))"
   ]
  },
  {
   "cell_type": "code",
   "execution_count": null,
   "metadata": {},
   "outputs": [],
   "source": []
  }
 ],
 "metadata": {
  "kernelspec": {
   "display_name": "Python 3",
   "language": "python",
   "name": "python3"
  },
  "language_info": {
   "codemirror_mode": {
    "name": "ipython",
    "version": 3
   },
   "file_extension": ".py",
   "mimetype": "text/x-python",
   "name": "python",
   "nbconvert_exporter": "python",
   "pygments_lexer": "ipython3",
   "version": "3.7.4"
  }
 },
 "nbformat": 4,
 "nbformat_minor": 2
}
