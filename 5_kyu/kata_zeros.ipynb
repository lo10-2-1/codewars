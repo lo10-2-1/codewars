{
 "cells": [
  {
   "cell_type": "code",
   "execution_count": 51,
   "metadata": {},
   "outputs": [],
   "source": [
    "def move_zeros(array):\n",
    "    array0 = []\n",
    "    array1 = []\n",
    "    for x in array:\n",
    "        if isinstance(x, bool)==False and x==0:\n",
    "            array0.append(int(x))\n",
    "    for x in array:\n",
    "        if isinstance(x, bool)==True or x!=0:\n",
    "            array1.append(x)\n",
    "    print(array1 + array0)"
   ]
  },
  {
   "cell_type": "code",
   "execution_count": 52,
   "metadata": {},
   "outputs": [
    {
     "name": "stdout",
     "output_type": "stream",
     "text": [
      "[1, 2, 1, 1, 3, 1, 0, 0, 0, 0]\n",
      "[9, 9, 1, 2, 1, 1, 3, 1, 9, 9, 0, 0, 0, 0, 0, 0, 0, 0, 0, 0]\n",
      "['a', 'b', 'c', 'd', 1, 1, 3, 1, 9, 9, 0, 0, 0, 0, 0, 0, 0, 0, 0, 0]\n",
      "['a', 'b', None, 'c', 'd', 1, False, 1, 3, [], 1, 9, {}, 9, 0, 0, 0, 0, 0, 0, 0, 0, 0, 0]\n",
      "[1, None, 2, False, 1, 0, 0]\n",
      "['a', 'b']\n",
      "['a']\n",
      "[0, 0]\n",
      "[0]\n",
      "[False]\n",
      "[]\n"
     ]
    }
   ],
   "source": [
    "move_zeros([1,2,0,1,0,1,0,3,0,1])#[ 1, 2, 1, 1, 3, 1, 0, 0, 0, 0 ])\n",
    "move_zeros([9,0.0,0,9,1,2,0,1,0,1,0.0,3,0,1,9,0,0,0,0,9])#,[9,9,1,2,1,1,3,1,9,9,0,0,0,0,0,0,0,0,0,0])\n",
    "move_zeros([\"a\",0,0,\"b\",\"c\",\"d\",0,1,0,1,0,3,0,1,9,0,0,0,0,9])#,[\"a\",\"b\",\"c\",\"d\",1,1,3,1,9,9,0,0,0,0,0,0,0,0,0,0])\n",
    "move_zeros([\"a\",0,0,\"b\",None,\"c\",\"d\",0,1,False,0,1,0,3,[],0,1,9,0,0,{},0,0,9])#,[\"a\",\"b\",None,\"c\",\"d\",1,False,1,3,[],1,9,{},9,0,0,0,0,0,0,0,0,0,0])\n",
    "move_zeros([0,1,None,2,False,1,0])#,[1,None,2,False,1,0,0])\n",
    "move_zeros([\"a\",\"b\"])#,[\"a\",\"b\"])\n",
    "move_zeros([\"a\"])#,[\"a\"])\n",
    "move_zeros([0,0])#,[0,0])\n",
    "move_zeros([0])#,[0])\n",
    "move_zeros([False])#,[False])\n",
    "move_zeros([])#,[])"
   ]
  },
  {
   "cell_type": "code",
   "execution_count": null,
   "metadata": {},
   "outputs": [],
   "source": []
  }
 ],
 "metadata": {
  "kernelspec": {
   "display_name": "Python 3",
   "language": "python",
   "name": "python3"
  },
  "language_info": {
   "codemirror_mode": {
    "name": "ipython",
    "version": 3
   },
   "file_extension": ".py",
   "mimetype": "text/x-python",
   "name": "python",
   "nbconvert_exporter": "python",
   "pygments_lexer": "ipython3",
   "version": "3.7.6"
  }
 },
 "nbformat": 4,
 "nbformat_minor": 4
}
