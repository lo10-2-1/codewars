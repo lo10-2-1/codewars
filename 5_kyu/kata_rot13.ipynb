{
 "cells": [
  {
   "cell_type": "code",
   "execution_count": 13,
   "metadata": {},
   "outputs": [],
   "source": [
    "def rot13(message):\n",
    "    upper = 'ABCDEFGHIJKLMNOPQRSTUVWXYZ'\n",
    "    lower = 'abcdefghijklmnopqrstuvwxyz'\n",
    "    message = list(message)\n",
    "    for x in range(len(message)):\n",
    "        if message[x] in upper:\n",
    "            ind = upper.index(message[x])\n",
    "            message[x] = upper[ind-13]\n",
    "        if message[x] in lower:\n",
    "            ind = lower.index(message[x])\n",
    "            message[x] = lower[ind-13]\n",
    "    return ''.join(message)"
   ]
  },
  {
   "cell_type": "code",
   "execution_count": 15,
   "metadata": {},
   "outputs": [
    {
     "name": "stdout",
     "output_type": "stream",
     "text": [
      "grfg\n",
      "Grfg\n",
      "Uryyb, jbeyq\n"
     ]
    }
   ],
   "source": [
    "print(rot13(\"test\"),#\"grfg\"\n",
    "rot13(\"Test\"),\n",
    "rot13(\"Hello, world\"), sep='\\n')#\"Grfg\""
   ]
  }
 ],
 "metadata": {
  "kernelspec": {
   "display_name": "Python 3",
   "language": "python",
   "name": "python3"
  },
  "language_info": {
   "codemirror_mode": {
    "name": "ipython",
    "version": 3
   },
   "file_extension": ".py",
   "mimetype": "text/x-python",
   "name": "python",
   "nbconvert_exporter": "python",
   "pygments_lexer": "ipython3",
   "version": "3.7.6"
  }
 },
 "nbformat": 4,
 "nbformat_minor": 4
}
