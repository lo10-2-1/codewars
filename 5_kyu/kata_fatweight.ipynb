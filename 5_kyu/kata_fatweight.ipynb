{
 "cells": [
  {
   "cell_type": "code",
   "execution_count": 102,
   "metadata": {},
   "outputs": [],
   "source": [
    "def order_weight(strng):\n",
    "    number = strng.split()\n",
    "    num2 = [list(map(int, str(i))) for i in number]\n",
    "    for i in range(len(num2)):\n",
    "        summ = 0\n",
    "        for j in num2[i]:\n",
    "            summ += j\n",
    "        num2[i] = summ\n",
    "    currnum = list((number[i], num2[i]) for i in range(len(number)))\n",
    "    currnum.sort(key=lambda i: i[1])\n",
    "    for bypass in range(1, len(currnum)):\n",
    "        for i in range(0, len(currnum)-bypass):\n",
    "            if currnum[i][1] == currnum[i+1][1]:\n",
    "                if currnum[i][0] > currnum[i+1][0]:\n",
    "                    currnum[i], currnum[i+1] = currnum[i+1], currnum[i]\n",
    "    currnum = list(currnum[i][0] for i in range(len(currnum)))\n",
    "    st = ' '\n",
    "    return st.join(map(str, currnum))"
   ]
  },
  {
   "cell_type": "code",
   "execution_count": 103,
   "metadata": {},
   "outputs": [
    {
     "name": "stdout",
     "output_type": "stream",
     "text": [
      "2000 103 123 4444 99 \n",
      " 11 11 2000 10003 22 123 1234000 44444444 9999 \n",
      " 1 2 200 4 4 6 6 7 7 18 27 72 81 9 91 425 31064 7920 67407 96488 34608557 71899703\n"
     ]
    }
   ],
   "source": [
    "print(order_weight(\"103 123 4444 99 2000\"), '\\n', #\"2000 103 123 4444 99\"\n",
    "order_weight(\"2000 10003 1234000 44444444 9999 11 11 22 123\"),'\\n',\n",
    "                   #\"11 11 2000 10003 22 123 1234000 44444444 9999\"\n",
    "order_weight('1 2 200 4 4 6 6 7 7 27 72 18 81 9 91 425 31064 7920 67407 96488 34608557 71899703'))\n",
    "      #'1 2 200 4 4 6 6 7 7 18 27 72 81 9 91 425 31064 7920 67407 96488 34608557 71899703'"
   ]
  },
  {
   "cell_type": "code",
   "execution_count": null,
   "metadata": {},
   "outputs": [],
   "source": []
  }
 ],
 "metadata": {
  "kernelspec": {
   "display_name": "Python 3",
   "language": "python",
   "name": "python3"
  },
  "language_info": {
   "codemirror_mode": {
    "name": "ipython",
    "version": 3
   },
   "file_extension": ".py",
   "mimetype": "text/x-python",
   "name": "python",
   "nbconvert_exporter": "python",
   "pygments_lexer": "ipython3",
   "version": "3.7.6"
  }
 },
 "nbformat": 4,
 "nbformat_minor": 4
}
