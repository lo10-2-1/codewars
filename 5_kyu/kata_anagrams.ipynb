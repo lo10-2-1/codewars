{
 "cells": [
  {
   "cell_type": "code",
   "execution_count": 121,
   "metadata": {},
   "outputs": [],
   "source": [
    "def anagrams(word, words):\n",
    "    words = list(filter(lambda x: len(x) == len(word), words))\n",
    "    new = []\n",
    "    for wo in words:\n",
    "        for let in wo:\n",
    "            if let not in word:\n",
    "                new.append(wo)\n",
    "    words = list(filter(lambda x: x not in new, words))\n",
    "    new = []\n",
    "    for let in word:\n",
    "        for x in words:\n",
    "            if let not in x:\n",
    "                new.append(x)\n",
    "    words = list(filter(lambda x: x not in new, words))\n",
    "    return words"
   ]
  },
  {
   "cell_type": "code",
   "execution_count": 122,
   "metadata": {},
   "outputs": [
    {
     "name": "stdout",
     "output_type": "stream",
     "text": [
      "['aabb', 'bbaa']\n",
      "['carer', 'racer']\n",
      "[]\n"
     ]
    }
   ],
   "source": [
    "print(anagrams('abba', ['aabb', 'abcd', 'bbaa', 'dada']), # ['aabb', 'bbaa']\n",
    "anagrams('racer', ['crazer', 'carer', 'racar', 'caers', 'racer']), # ['carer', 'racer']\n",
    "anagrams('laser', ['lazing', 'lazy',  'lacer']), sep='\\n') #[]"
   ]
  },
  {
   "cell_type": "code",
   "execution_count": null,
   "metadata": {},
   "outputs": [],
   "source": []
  }
 ],
 "metadata": {
  "kernelspec": {
   "display_name": "Python 3",
   "language": "python",
   "name": "python3"
  },
  "language_info": {
   "codemirror_mode": {
    "name": "ipython",
    "version": 3
   },
   "file_extension": ".py",
   "mimetype": "text/x-python",
   "name": "python",
   "nbconvert_exporter": "python",
   "pygments_lexer": "ipython3",
   "version": "3.7.6"
  }
 },
 "nbformat": 4,
 "nbformat_minor": 4
}
