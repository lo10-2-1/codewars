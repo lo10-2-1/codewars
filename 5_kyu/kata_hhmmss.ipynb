{
 "cells": [
  {
   "cell_type": "code",
   "execution_count": 46,
   "metadata": {},
   "outputs": [],
   "source": [
    "def make_readable(sec):\n",
    "    time = {'hours': 0, 'minutes': 0, 'seconds': 0}\n",
    "    time['hours'] = sec // 3600\n",
    "    time['minutes'] = sec // 60 % 60\n",
    "    time['seconds'] = sec % 60\n",
    "    if time['hours'] > 99:\n",
    "        return 'Oops, too big'\n",
    "    time = list(map(str, time.values()))\n",
    "    for i in range(len(time)):\n",
    "        if len(time[i]) == 1:\n",
    "            time[i] = '0' + time[i]\n",
    "    cur=':'\n",
    "    return cur.join(time)"
   ]
  },
  {
   "cell_type": "code",
   "execution_count": 47,
   "metadata": {},
   "outputs": [
    {
     "name": "stdout",
     "output_type": "stream",
     "text": [
      "00:00:00, 00:00:05, 00:01:00, 23:59:59, 99:59:59\n"
     ]
    }
   ],
   "source": [
    "print(make_readable(0), #\"00:00:00\"\n",
    "    make_readable(5), #\"00:00:05\"\n",
    "    make_readable(60), #\"00:01:00\"\n",
    "    make_readable(86399), #\"23:59:59\"\n",
    "    make_readable(359999), sep=', ') #\"99:59:59\""
   ]
  },
  {
   "cell_type": "code",
   "execution_count": null,
   "metadata": {},
   "outputs": [],
   "source": []
  }
 ],
 "metadata": {
  "kernelspec": {
   "display_name": "Python 3",
   "language": "python",
   "name": "python3"
  },
  "language_info": {
   "codemirror_mode": {
    "name": "ipython",
    "version": 3
   },
   "file_extension": ".py",
   "mimetype": "text/x-python",
   "name": "python",
   "nbconvert_exporter": "python",
   "pygments_lexer": "ipython3",
   "version": "3.7.6"
  }
 },
 "nbformat": 4,
 "nbformat_minor": 4
}
