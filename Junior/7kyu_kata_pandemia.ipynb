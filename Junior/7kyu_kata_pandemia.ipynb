{
 "cells": [
  {
   "cell_type": "code",
   "execution_count": 45,
   "metadata": {},
   "outputs": [],
   "source": [
    "def infected(s):\n",
    "    s = list(s)\n",
    "    total = s.count('0') + s.count('1')\n",
    "    infected = 0\n",
    "    percent = 0\n",
    "    slist = list()\n",
    "    for item in s:\n",
    "        try:\n",
    "            temp = s.index('X')\n",
    "        except:\n",
    "            temp = len(s)\n",
    "        slist.append(s[:temp])\n",
    "        s = s[temp+1:]\n",
    "        if len(s) == 0:\n",
    "            break\n",
    "    for i in range(len(slist)):\n",
    "        for j in range(len(slist[i])):\n",
    "            if '1' in slist[i]:\n",
    "                slist[i][j] = '1'\n",
    "                infected += 1\n",
    "    if total != 0:\n",
    "        percent = 100 * infected / total\n",
    "    return percent"
   ]
  },
  {
   "cell_type": "code",
   "execution_count": 46,
   "metadata": {},
   "outputs": [
    {
     "name": "stdout",
     "output_type": "stream",
     "text": [
      "73.33333333333333\n",
      "72.72727272727273\n",
      "0\n",
      "0.0\n",
      "100.0\n",
      "100.0\n",
      "42.857142857142854\n"
     ]
    }
   ],
   "source": [
    "print(\n",
    "    infected(\"01000000X000X011X0X\"), #73.33333333333333\n",
    "    infected(\"01X000X010X011XX\"), #72.72727272727273)\n",
    "    infected(\"XXXXX\"), #0\n",
    "    infected(\"00000000X00X0000\"), #0\n",
    "    infected(\"0000000010\"), #100\n",
    "    infected(\"000001XXXX0010X1X00010\"), #100\n",
    "    infected(\"X00X000000X10X0100\"), #42.857142857142854\n",
    "    sep='\\n')"
   ]
  },
  {
   "cell_type": "code",
   "execution_count": null,
   "metadata": {},
   "outputs": [],
   "source": []
  }
 ],
 "metadata": {
  "kernelspec": {
   "display_name": "Python 3",
   "language": "python",
   "name": "python3"
  },
  "language_info": {
   "codemirror_mode": {
    "name": "ipython",
    "version": 3
   },
   "file_extension": ".py",
   "mimetype": "text/x-python",
   "name": "python",
   "nbconvert_exporter": "python",
   "pygments_lexer": "ipython3",
   "version": "3.7.6"
  }
 },
 "nbformat": 4,
 "nbformat_minor": 2
}
