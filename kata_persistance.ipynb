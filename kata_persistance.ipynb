{
 "cells": [
  {
   "cell_type": "code",
   "execution_count": 53,
   "metadata": {},
   "outputs": [],
   "source": [
    "def persistence(n):\n",
    "    operat_num = 0\n",
    "    temp = 1\n",
    "    n = list(map(int, str(n)))\n",
    "    while len(n) != 1:\n",
    "        for dig in n:\n",
    "            temp = temp * dig\n",
    "        operat_num += 1\n",
    "        n = list(map(int, str(temp)))\n",
    "        temp = 1\n",
    "    return operat_num"
   ]
  },
  {
   "cell_type": "code",
   "execution_count": 54,
   "metadata": {},
   "outputs": [],
   "source": [
    "a = persistence(999)\n",
    "b = persistence(39)\n",
    "c = persistence(25)\n",
    "d = persistence(4)"
   ]
  },
  {
   "cell_type": "code",
   "execution_count": null,
   "metadata": {},
   "outputs": [],
   "source": []
  }
 ],
 "metadata": {
  "kernelspec": {
   "display_name": "Python 3",
   "language": "python",
   "name": "python3"
  },
  "language_info": {
   "codemirror_mode": {
    "name": "ipython",
    "version": 3
   },
   "file_extension": ".py",
   "mimetype": "text/x-python",
   "name": "python",
   "nbconvert_exporter": "python",
   "pygments_lexer": "ipython3",
   "version": "3.7.4"
  }
 },
 "nbformat": 4,
 "nbformat_minor": 2
}
